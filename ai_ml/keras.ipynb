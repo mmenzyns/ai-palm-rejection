{
 "metadata": {
  "language_info": {
   "codemirror_mode": {
    "name": "ipython",
    "version": 3
   },
   "file_extension": ".py",
   "mimetype": "text/x-python",
   "name": "python",
   "nbconvert_exporter": "python",
   "pygments_lexer": "ipython3",
   "version": "3.8.5-final"
  },
  "orig_nbformat": 2,
  "kernelspec": {
   "name": "python385jvsc74a57bd04cb371dfbd64b115996b53cd3120a45dcd422e0f4baaeed776959a87a3804623",
   "display_name": "Python 3.8.5 64-bit ('base': conda)"
  },
  "metadata": {
   "interpreter": {
    "hash": "4cb371dfbd64b115996b53cd3120a45dcd422e0f4baaeed776959a87a3804623"
   }
  }
 },
 "nbformat": 4,
 "nbformat_minor": 2,
 "cells": [
  {
   "cell_type": "code",
   "execution_count": 3,
   "metadata": {},
   "outputs": [],
   "source": [
    "import tensorflow as tf\n",
    "import numpy as np\n",
    "import matplotlib.pyplot as plt\n",
    "\n",
    "from tensorflow import keras\n",
    "from tensorflow.keras import layers\n"
   ]
  },
  {
   "cell_type": "code",
   "execution_count": null,
   "metadata": {},
   "outputs": [],
   "source": [
    "with open('accept_data.pickle', 'rb') as f:\n",
    "    accept_data = pickle.load(f)\n",
    "with open('reject_data.pickle', 'rb') as f:\n",
    "    reject_data = pickle.load(f)\n",
    "\n",
    "x_train, y_train = []\n",
    "\n",
    "x_train.extend(np_array(accept_data))\n",
    "y_train.extend(np.full(np.shape(accept_data)))\n",
    "\n"
   ]
  }
 ]
}