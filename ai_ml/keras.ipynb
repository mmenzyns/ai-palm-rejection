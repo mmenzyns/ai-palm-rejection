{
 "metadata": {
  "language_info": {
   "codemirror_mode": {
    "name": "ipython",
    "version": 3
   },
   "file_extension": ".py",
   "mimetype": "text/x-python",
   "name": "python",
   "nbconvert_exporter": "python",
   "pygments_lexer": "ipython3",
   "version": "3.8.5"
  },
  "orig_nbformat": 2,
  "kernelspec": {
   "name": "python3",
   "display_name": "Python 3.8.5 64-bit ('base': conda)"
  },
  "metadata": {
   "interpreter": {
    "hash": "4cb371dfbd64b115996b53cd3120a45dcd422e0f4baaeed776959a87a3804623"
   }
  },
  "interpreter": {
   "hash": "228c518008440bb9804c44fb8714a0a32d47965f19bc294a1b65b35c54767715"
  }
 },
 "nbformat": 4,
 "nbformat_minor": 2,
 "cells": [
  {
   "cell_type": "code",
   "execution_count": null,
   "metadata": {},
   "outputs": [],
   "source": [
    "import tensorflow as tf\n",
    "import numpy as np\n",
    "import matplotlib.pyplot as plt\n",
    "\n",
    "from tensorflow import keras\n",
    "from tensorflow.keras import layers\n",
    "\n",
    "from pathlib import Path\n",
    "# from tqdm.notebook import tqdm\n",
    "from imageio import imread\n"
   ]
  },
  {
   "cell_type": "code",
   "execution_count": null,
   "metadata": {},
   "outputs": [],
   "source": [
    "def read_grayscale_pngs(path, width=20, height=13):\n",
    "    path = Path(path)\n",
    "    if not path.exists():\n",
    "        print(\"Path doesn't exist\")\n",
    "        return None\n",
    "\n",
    "    # print(len([name for name in os.listdir('{}/.'.format(path)) if os.path.isfile(name)]))\n",
    "    num_files = len(list(path.glob('**/*.png'))) # Calculate amount of files in directory\n",
    "    # num_files = len([f for f in path.iterdir() if path.joinpath(f).is_file()]) # Calculate amount of files in directory\n",
    "\n",
    "    ids = np.empty(num_files)\n",
    "    images = np.empty((num_files, 13, 20))\n",
    "\n",
    "    for i, image_path in enumerate(path.glob('**/*.png')):\n",
    "        images[i] = np.array(imread(image_path))[:, :, 0] # Pixel data: It's grayscale so take only Red values from [R, G, B, A]\n",
    "    return images"
   ]
  },
  {
   "cell_type": "code",
   "execution_count": null,
   "metadata": {},
   "outputs": [],
   "source": [
    "legal = read_grayscale_pngs(\"../data_processing/out/legal\")\n",
    "\n"
   ]
  },
  {
   "cell_type": "code",
   "execution_count": 9,
   "metadata": {},
   "outputs": [],
   "source": [
    "illegal = read_grayscale_pngs(\"../data_processing/out/illegal\")  \n"
   ]
  },
  {
   "cell_type": "code",
   "execution_count": 28,
   "metadata": {},
   "outputs": [],
   "source": [
    "X_train = np.concatenate((legal, illegal))\n",
    "Y_train = np.concatenate((np.full(len(legal), 0), np.full(len(illegal), 1)))"
   ]
  },
  {
   "cell_type": "code",
   "execution_count": 39,
   "metadata": {},
   "outputs": [],
   "source": [
    "legal_test = read_grayscale_pngs(\"testing/legal\")\n",
    "illegal_test = read_grayscale_pngs(\"testing/illegal\")\n",
    "X_test = np.concatenate((legal_test, illegal_test))\n",
    "Y_test = np.concatenate((np.full(len(legal_test), 0), np.full(len(illegal_test), 1)))"
   ]
  },
  {
   "cell_type": "code",
   "execution_count": 141,
   "metadata": {},
   "outputs": [
    {
     "output_type": "stream",
     "name": "stdout",
     "text": [
      "1\n2\n4\n8\n16\n32\n64\n128\n256\n"
     ]
    }
   ],
   "source": [
    "i = 1\n",
    "while i <= 256:\n",
    "    print(i)\n",
    "    i = 2*i"
   ]
  },
  {
   "cell_type": "code",
   "execution_count": 136,
   "metadata": {},
   "outputs": [
    {
     "output_type": "stream",
     "name": "stdout",
     "text": [
      "1\n",
      "Epoch 1/10\n",
      "1185/1185 [==============================] - 2s 1ms/step - loss: 0.1519 - accuracy: 0.9625\n",
      "Epoch 2/10\n",
      "1185/1185 [==============================] - 1s 1ms/step - loss: 0.1317 - accuracy: 0.9712\n",
      "Epoch 3/10\n",
      "1185/1185 [==============================] - 1s 1ms/step - loss: 0.1255 - accuracy: 0.9760\n",
      "Epoch 4/10\n",
      "1185/1185 [==============================] - 1s 1ms/step - loss: 0.1232 - accuracy: 0.9763\n",
      "Epoch 5/10\n",
      "1185/1185 [==============================] - 1s 1ms/step - loss: 0.1219 - accuracy: 0.9763\n",
      "Epoch 6/10\n",
      "1185/1185 [==============================] - 1s 1ms/step - loss: 0.1212 - accuracy: 0.9763\n",
      "Epoch 7/10\n",
      "1185/1185 [==============================] - 1s 1ms/step - loss: 0.1209 - accuracy: 0.9763\n",
      "Epoch 8/10\n",
      "1185/1185 [==============================] - 1s 1ms/step - loss: 0.1207 - accuracy: 0.9763\n",
      "Epoch 9/10\n",
      "1185/1185 [==============================] - 1s 1ms/step - loss: 0.1205 - accuracy: 0.9763\n",
      "Epoch 10/10\n",
      "1185/1185 [==============================] - 1s 1ms/step - loss: 0.1204 - accuracy: 0.9763\n",
      "3\n",
      "Epoch 1/10\n",
      "1185/1185 [==============================] - 2s 1ms/step - loss: 0.2077 - accuracy: 0.9206\n",
      "Epoch 2/10\n",
      "1185/1185 [==============================] - 2s 1ms/step - loss: 0.1276 - accuracy: 0.9696\n",
      "Epoch 3/10\n",
      "1185/1185 [==============================] - 2s 1ms/step - loss: 0.1216 - accuracy: 0.9698\n",
      "Epoch 4/10\n",
      "1185/1185 [==============================] - 2s 1ms/step - loss: 0.1161 - accuracy: 0.9758\n",
      "Epoch 5/10\n",
      "1185/1185 [==============================] - 2s 1ms/step - loss: 0.1112 - accuracy: 0.9773\n",
      "Epoch 6/10\n",
      "1185/1185 [==============================] - 2s 1ms/step - loss: 0.1042 - accuracy: 0.9777\n",
      "Epoch 7/10\n",
      "1185/1185 [==============================] - 2s 1ms/step - loss: 0.0983 - accuracy: 0.9782\n",
      "Epoch 8/10\n",
      "1185/1185 [==============================] - 2s 1ms/step - loss: 0.0966 - accuracy: 0.9784\n",
      "Epoch 9/10\n",
      "1185/1185 [==============================] - 2s 1ms/step - loss: 0.0958 - accuracy: 0.9784\n",
      "Epoch 10/10\n",
      "1185/1185 [==============================] - 2s 1ms/step - loss: 0.0952 - accuracy: 0.9785\n",
      "7\n",
      "Epoch 1/10\n",
      "1185/1185 [==============================] - 2s 1ms/step - loss: 0.2025 - accuracy: 0.9639\n",
      "Epoch 2/10\n",
      "1185/1185 [==============================] - 2s 1ms/step - loss: 0.1207 - accuracy: 0.9744\n",
      "Epoch 3/10\n",
      "1185/1185 [==============================] - 2s 1ms/step - loss: 0.1090 - accuracy: 0.9769\n",
      "Epoch 4/10\n",
      "1185/1185 [==============================] - 2s 1ms/step - loss: 0.0997 - accuracy: 0.9780\n",
      "Epoch 5/10\n",
      "1185/1185 [==============================] - 2s 1ms/step - loss: 0.0938 - accuracy: 0.9789\n",
      "Epoch 6/10\n",
      "1185/1185 [==============================] - 2s 1ms/step - loss: 0.0909 - accuracy: 0.9794\n",
      "Epoch 7/10\n",
      "1185/1185 [==============================] - 2s 1ms/step - loss: 0.0890 - accuracy: 0.9796\n",
      "Epoch 8/10\n",
      "1185/1185 [==============================] - 2s 1ms/step - loss: 0.0876 - accuracy: 0.9797\n",
      "Epoch 9/10\n",
      "1185/1185 [==============================] - 2s 1ms/step - loss: 0.0868 - accuracy: 0.9797\n",
      "Epoch 10/10\n",
      "1185/1185 [==============================] - 2s 1ms/step - loss: 0.0862 - accuracy: 0.9797\n",
      "15\n",
      "Epoch 1/10\n",
      "1185/1185 [==============================] - 2s 2ms/step - loss: 0.1951 - accuracy: 0.9718\n",
      "Epoch 2/10\n",
      "1185/1185 [==============================] - 2s 2ms/step - loss: 0.1112 - accuracy: 0.9779\n",
      "Epoch 3/10\n",
      "1185/1185 [==============================] - 2s 2ms/step - loss: 0.0926 - accuracy: 0.9793\n",
      "Epoch 4/10\n",
      "1185/1185 [==============================] - 2s 2ms/step - loss: 0.0873 - accuracy: 0.9798\n",
      "Epoch 5/10\n",
      "1185/1185 [==============================] - 2s 2ms/step - loss: 0.0851 - accuracy: 0.9800\n",
      "Epoch 6/10\n",
      "1185/1185 [==============================] - 2s 2ms/step - loss: 0.0836 - accuracy: 0.9802\n",
      "Epoch 7/10\n",
      "1185/1185 [==============================] - 2s 2ms/step - loss: 0.0826 - accuracy: 0.9803\n",
      "Epoch 8/10\n",
      "1185/1185 [==============================] - 2s 2ms/step - loss: 0.0822 - accuracy: 0.9804\n",
      "Epoch 9/10\n",
      "1185/1185 [==============================] - 2s 2ms/step - loss: 0.0816 - accuracy: 0.9804\n",
      "Epoch 10/10\n",
      "1185/1185 [==============================] - 2s 2ms/step - loss: 0.0813 - accuracy: 0.9805\n",
      "31\n",
      "Epoch 1/10\n",
      "1185/1185 [==============================] - 3s 2ms/step - loss: 0.1825 - accuracy: 0.9749\n",
      "Epoch 2/10\n",
      "1185/1185 [==============================] - 2s 2ms/step - loss: 0.0913 - accuracy: 0.9796\n",
      "Epoch 3/10\n",
      "1185/1185 [==============================] - 2s 2ms/step - loss: 0.0859 - accuracy: 0.9803\n",
      "Epoch 4/10\n",
      "1185/1185 [==============================] - 2s 2ms/step - loss: 0.0830 - accuracy: 0.9808\n",
      "Epoch 5/10\n",
      "1185/1185 [==============================] - 2s 2ms/step - loss: 0.0812 - accuracy: 0.9811\n",
      "Epoch 6/10\n",
      "1185/1185 [==============================] - 2s 2ms/step - loss: 0.0802 - accuracy: 0.9812\n",
      "Epoch 7/10\n",
      "1185/1185 [==============================] - 2s 2ms/step - loss: 0.0792 - accuracy: 0.9813\n",
      "Epoch 8/10\n",
      "1185/1185 [==============================] - 2s 2ms/step - loss: 0.0786 - accuracy: 0.9814\n",
      "Epoch 9/10\n",
      "1185/1185 [==============================] - 2s 2ms/step - loss: 0.0780 - accuracy: 0.9815\n",
      "Epoch 10/10\n",
      "1185/1185 [==============================] - 2s 2ms/step - loss: 0.0776 - accuracy: 0.9815\n",
      "63\n",
      "Epoch 1/10\n",
      "1185/1185 [==============================] - 3s 3ms/step - loss: 0.1107 - accuracy: 0.9780\n",
      "Epoch 2/10\n",
      "1185/1185 [==============================] - 3s 3ms/step - loss: 0.0848 - accuracy: 0.9804\n",
      "Epoch 3/10\n",
      "1185/1185 [==============================] - 3s 3ms/step - loss: 0.0816 - accuracy: 0.9809\n",
      "Epoch 4/10\n",
      "1185/1185 [==============================] - 3s 3ms/step - loss: 0.0802 - accuracy: 0.9811\n",
      "Epoch 5/10\n",
      "1185/1185 [==============================] - 3s 3ms/step - loss: 0.0788 - accuracy: 0.9812\n",
      "Epoch 6/10\n",
      "1185/1185 [==============================] - 3s 3ms/step - loss: 0.0782 - accuracy: 0.9813\n",
      "Epoch 7/10\n",
      "1185/1185 [==============================] - 3s 3ms/step - loss: 0.0775 - accuracy: 0.9814\n",
      "Epoch 8/10\n",
      "1185/1185 [==============================] - 3s 3ms/step - loss: 0.0772 - accuracy: 0.9815\n",
      "Epoch 9/10\n",
      "1185/1185 [==============================] - 3s 3ms/step - loss: 0.0760 - accuracy: 0.9816\n",
      "Epoch 10/10\n",
      "1185/1185 [==============================] - 3s 3ms/step - loss: 0.0753 - accuracy: 0.9818\n",
      "127\n",
      "Epoch 1/10\n",
      "1185/1185 [==============================] - 5s 4ms/step - loss: 0.1040 - accuracy: 0.9786\n",
      "Epoch 2/10\n",
      "1185/1185 [==============================] - 5s 4ms/step - loss: 0.0829 - accuracy: 0.9808\n",
      "Epoch 3/10\n",
      "1185/1185 [==============================] - 5s 4ms/step - loss: 0.0800 - accuracy: 0.9812\n",
      "Epoch 4/10\n",
      "1185/1185 [==============================] - 4s 4ms/step - loss: 0.0786 - accuracy: 0.9813\n",
      "Epoch 5/10\n",
      "1185/1185 [==============================] - 4s 4ms/step - loss: 0.0777 - accuracy: 0.9815\n",
      "Epoch 6/10\n",
      "1185/1185 [==============================] - 4s 4ms/step - loss: 0.0767 - accuracy: 0.9816\n",
      "Epoch 7/10\n",
      "1185/1185 [==============================] - 4s 4ms/step - loss: 0.0760 - accuracy: 0.9818\n",
      "Epoch 8/10\n",
      "1185/1185 [==============================] - 4s 4ms/step - loss: 0.0753 - accuracy: 0.9820\n",
      "Epoch 9/10\n",
      "1185/1185 [==============================] - 4s 4ms/step - loss: 0.0747 - accuracy: 0.9822\n",
      "Epoch 10/10\n",
      "1185/1185 [==============================] - 4s 4ms/step - loss: 0.0736 - accuracy: 0.9824\n"
     ]
    }
   ],
   "source": [
    "layer_sizes = []\n",
    "accuracies = []\n",
    "\n",
    "i = 1\n",
    "while i <= 256:\n",
    "    print(i)\n",
    "    \n",
    "    \n",
    "    keras.backend.clear_session()\n",
    "    model = keras.Sequential()\n",
    "    # model.add(layers.Flatten(input_shape=(13,20)))\n",
    "    model.add(layers.Dense(i, activation=\"relu\"))\n",
    "    # model.add(layers.Dense(100, activation=\"relu\"))\n",
    "    # model.add(layers.Dense(20, activation=\"relu\"))\n",
    "\n",
    "    model.add(layers.Dense(1,  activation=\"sigmoid\"))\n",
    "\n",
    "    model.compile(loss=\"binary_crossentropy\", optimizer=\"adam\", metrics=[\"accuracy\"])\n",
    "\n",
    "    model.fit(X_train, Y_train, shuffle=True, batch_size=320, epochs=10)\n",
    "\n",
    "    loss, accuracy = model.evaluate(X_test, Y_test, verbose=0)\n",
    "    \n",
    "    layer_sizes.append(i)\n",
    "    accuracies.append(accuracy)\n",
    "    # print(\"loss: {}, accuracy: {}%\".format(round(loss, 2), round(accuracy*100, 2)))\n",
    "\n",
    "    i = 2*i"
   ]
  },
  {
   "cell_type": "code",
   "execution_count": 143,
   "metadata": {},
   "outputs": [
    {
     "output_type": "stream",
     "name": "stdout",
     "text": [
      "[0.7066189646720886, 0.8998211026191711, 0.9445437788963318, 0.9078711867332458, 0.9114490151405334, 0.9203935861587524, 0.9141324162483215]\n"
     ]
    }
   ],
   "source": [
    "print(accuracies)"
   ]
  },
  {
   "cell_type": "code",
   "execution_count": 138,
   "metadata": {},
   "outputs": [
    {
     "output_type": "error",
     "ename": "RuntimeError",
     "evalue": "You must compile your model before training/testing. Use `model.compile(optimizer, loss)`.",
     "traceback": [
      "\u001b[0;31m---------------------------------------------------------------------------\u001b[0m",
      "\u001b[0;31mRuntimeError\u001b[0m                              Traceback (most recent call last)",
      "\u001b[0;32m<ipython-input-138-1d67e6ab817c>\u001b[0m in \u001b[0;36m<module>\u001b[0;34m\u001b[0m\n\u001b[0;32m----> 1\u001b[0;31m \u001b[0mloss\u001b[0m\u001b[0;34m,\u001b[0m \u001b[0maccuracy\u001b[0m \u001b[0;34m=\u001b[0m \u001b[0mmodela\u001b[0m\u001b[0;34m.\u001b[0m\u001b[0mevaluate\u001b[0m\u001b[0;34m(\u001b[0m\u001b[0mX_test\u001b[0m\u001b[0;34m,\u001b[0m \u001b[0mY_test\u001b[0m\u001b[0;34m,\u001b[0m \u001b[0mverbose\u001b[0m\u001b[0;34m=\u001b[0m\u001b[0;36m0\u001b[0m\u001b[0;34m)\u001b[0m\u001b[0;34m\u001b[0m\u001b[0;34m\u001b[0m\u001b[0m\n\u001b[0m\u001b[1;32m      2\u001b[0m \u001b[0mprint\u001b[0m\u001b[0;34m(\u001b[0m\u001b[0;34m\"loss: {}, accuracy: {}%\"\u001b[0m\u001b[0;34m.\u001b[0m\u001b[0mformat\u001b[0m\u001b[0;34m(\u001b[0m\u001b[0mround\u001b[0m\u001b[0;34m(\u001b[0m\u001b[0mloss\u001b[0m\u001b[0;34m,\u001b[0m \u001b[0;36m2\u001b[0m\u001b[0;34m)\u001b[0m\u001b[0;34m,\u001b[0m \u001b[0mround\u001b[0m\u001b[0;34m(\u001b[0m\u001b[0maccuracy\u001b[0m\u001b[0;34m*\u001b[0m\u001b[0;36m100\u001b[0m\u001b[0;34m,\u001b[0m \u001b[0;36m2\u001b[0m\u001b[0;34m)\u001b[0m\u001b[0;34m)\u001b[0m\u001b[0;34m)\u001b[0m\u001b[0;34m\u001b[0m\u001b[0;34m\u001b[0m\u001b[0m\n",
      "\u001b[0;32m~/anaconda3/lib/python3.8/site-packages/tensorflow/python/keras/engine/training.py\u001b[0m in \u001b[0;36mevaluate\u001b[0;34m(self, x, y, batch_size, verbose, sample_weight, steps, callbacks, max_queue_size, workers, use_multiprocessing, return_dict, **kwargs)\u001b[0m\n\u001b[1;32m   1434\u001b[0m     \u001b[0mbase_layer\u001b[0m\u001b[0;34m.\u001b[0m\u001b[0mkeras_api_gauge\u001b[0m\u001b[0;34m.\u001b[0m\u001b[0mget_cell\u001b[0m\u001b[0;34m(\u001b[0m\u001b[0;34m'evaluate'\u001b[0m\u001b[0;34m)\u001b[0m\u001b[0;34m.\u001b[0m\u001b[0mset\u001b[0m\u001b[0;34m(\u001b[0m\u001b[0;32mTrue\u001b[0m\u001b[0;34m)\u001b[0m\u001b[0;34m\u001b[0m\u001b[0;34m\u001b[0m\u001b[0m\n\u001b[1;32m   1435\u001b[0m     \u001b[0mversion_utils\u001b[0m\u001b[0;34m.\u001b[0m\u001b[0mdisallow_legacy_graph\u001b[0m\u001b[0;34m(\u001b[0m\u001b[0;34m'Model'\u001b[0m\u001b[0;34m,\u001b[0m \u001b[0;34m'evaluate'\u001b[0m\u001b[0;34m)\u001b[0m\u001b[0;34m\u001b[0m\u001b[0;34m\u001b[0m\u001b[0m\n\u001b[0;32m-> 1436\u001b[0;31m     \u001b[0mself\u001b[0m\u001b[0;34m.\u001b[0m\u001b[0m_assert_compile_was_called\u001b[0m\u001b[0;34m(\u001b[0m\u001b[0;34m)\u001b[0m\u001b[0;34m\u001b[0m\u001b[0;34m\u001b[0m\u001b[0m\n\u001b[0m\u001b[1;32m   1437\u001b[0m     \u001b[0mself\u001b[0m\u001b[0;34m.\u001b[0m\u001b[0m_check_call_args\u001b[0m\u001b[0;34m(\u001b[0m\u001b[0;34m'evaluate'\u001b[0m\u001b[0;34m)\u001b[0m\u001b[0;34m\u001b[0m\u001b[0;34m\u001b[0m\u001b[0m\n\u001b[1;32m   1438\u001b[0m     \u001b[0m_disallow_inside_tf_function\u001b[0m\u001b[0;34m(\u001b[0m\u001b[0;34m'evaluate'\u001b[0m\u001b[0;34m)\u001b[0m\u001b[0;34m\u001b[0m\u001b[0;34m\u001b[0m\u001b[0m\n",
      "\u001b[0;32m~/anaconda3/lib/python3.8/site-packages/tensorflow/python/keras/engine/training.py\u001b[0m in \u001b[0;36m_assert_compile_was_called\u001b[0;34m(self)\u001b[0m\n\u001b[1;32m   2691\u001b[0m     \u001b[0;31m# (i.e. whether the model is built and its inputs/outputs are set).\u001b[0m\u001b[0;34m\u001b[0m\u001b[0;34m\u001b[0m\u001b[0;34m\u001b[0m\u001b[0m\n\u001b[1;32m   2692\u001b[0m     \u001b[0;32mif\u001b[0m \u001b[0;32mnot\u001b[0m \u001b[0mself\u001b[0m\u001b[0;34m.\u001b[0m\u001b[0m_is_compiled\u001b[0m\u001b[0;34m:\u001b[0m\u001b[0;34m\u001b[0m\u001b[0;34m\u001b[0m\u001b[0m\n\u001b[0;32m-> 2693\u001b[0;31m       raise RuntimeError('You must compile your model before '\n\u001b[0m\u001b[1;32m   2694\u001b[0m                          \u001b[0;34m'training/testing. '\u001b[0m\u001b[0;34m\u001b[0m\u001b[0;34m\u001b[0m\u001b[0m\n\u001b[1;32m   2695\u001b[0m                          'Use `model.compile(optimizer, loss)`.')\n",
      "\u001b[0;31mRuntimeError\u001b[0m: You must compile your model before training/testing. Use `model.compile(optimizer, loss)`."
     ]
    }
   ],
   "source": [
    "loss, accuracy = modela.evaluate(X_test, Y_test, verbose=0)\n",
    "print(\"loss: {}, accuracy: {}%\".format(round(loss, 2), round(accuracy*100, 2)))"
   ]
  },
  {
   "cell_type": "code",
   "execution_count": 108,
   "metadata": {},
   "outputs": [
    {
     "output_type": "execute_result",
     "data": {
      "text/plain": [
       "(379116, 13, 20)"
      ]
     },
     "metadata": {},
     "execution_count": 108
    }
   ],
   "source": [
    "X_train.shape"
   ]
  },
  {
   "cell_type": "code",
   "execution_count": null,
   "metadata": {},
   "outputs": [],
   "source": []
  }
 ]
}