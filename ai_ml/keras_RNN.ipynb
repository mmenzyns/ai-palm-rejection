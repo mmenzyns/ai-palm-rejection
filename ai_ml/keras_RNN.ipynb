{
 "cells": [
  {
   "cell_type": "code",
   "execution_count": null,
   "metadata": {},
   "outputs": [],
   "source": [
    "import tensorflow as tf\n",
    "import numpy as np\n",
    "import matplotlib.pyplot as plt\n",
    "\n",
    "from tensorflow import keras\n",
    "from tensorflow.keras import layers\n",
    "\n",
    "from pathlib import Path\n",
    "# from tqdm.notebook import tqdm\n",
    "from imageio import imread\n",
    "\n",
    "import seaborn as sns\n"
   ]
  },
  {
   "cell_type": "code",
   "execution_count": null,
   "metadata": {},
   "outputs": [],
   "source": [
    "def read_grayscale_pngs(path, width=20, height=13):\n",
    "    path = Path(path)\n",
    "    if not path.exists():\n",
    "        print(\"Path {} doesn't exist\".format(path))\n",
    "        return None\n",
    "\n",
    "    # print(len([name for name in os.listdir('{}/.'.format(path)) if os.path.isfile(name)]))\n",
    "    num_files = len(list(path.glob('**/*.png'))) # Calculate amount of files in directory\n",
    "    # num_files = len([f for f in path.iterdir() if path.joinpath(f).is_file()]) # Calculate amount of files in directory\n",
    "\n",
    "    images = np.empty((num_files, 13, 20))\n",
    "\n",
    "    for i, image_path in enumerate(sorted(path.glob('**/*.png'), key=lambda f: int(f.stem))):\n",
    "        images[i] = np.array(imread(image_path))[:, :, 0] # Pixel data: It's grayscale so take only Red values from [R, G, B, A]\n",
    "    return images"
   ]
  },
  {
   "cell_type": "code",
   "execution_count": 8,
   "metadata": {},
   "outputs": [],
   "source": [
    "legal = read_grayscale_pngs(\"out/legal/orig\")\n",
    "illegal = read_grayscale_pngs(\"out/illegal/orig\")  \n",
    "\n",
    "mirrored_legal = read_grayscale_pngs(\"out/legal/mirrored\")\n",
    "mirrored_illegal = read_grayscale_pngs(\"out/illegal/mirrored\")\n",
    "\n",
    "rotated20legal = read_grayscale_pngs(\"out/legal/rotated20.0\")\n",
    "rotated20illegal = read_grayscale_pngs(\"out/illegal/rotated20.0\")\n",
    "\n",
    "rotatedm20legal = read_grayscale_pngs(\"out/legal/rotated-20.0\")\n",
    "rotatedm20illegal = read_grayscale_pngs(\"out/illegal/rotated-20.0\")\n",
    "\n",
    "legal_test = read_grayscale_pngs(\"testing/legal\")\n",
    "illegal_test = read_grayscale_pngs(\"testing/illegal\")\n"
   ]
  },
  {
   "cell_type": "code",
   "execution_count": 15,
   "metadata": {},
   "outputs": [],
   "source": [
    "from sklearn.model_selection import train_test_split# Spliiting data into test and train sets\n",
    "\n",
    "x_train_legal = np.concatenate((legal, mirrored_legal, rotated20legal, rotatedm20legal))\n",
    "x_train_illegal = np.concatenate((illegal, mirrored_illegal, rotated20illegal, rotatedm20illegal))\n",
    "X_train = np.concatenate((x_train_legal, x_train_illegal))    \n",
    "\n",
    "X_train = X_train / 255.0\n",
    "Y_train = np.concatenate((np.full(len(x_train_legal),0), np.full(len(x_train_illegal), 1)))\n",
    "\n",
    "\n",
    "X_test = np.concatenate((legal_test, illegal_test))\n",
    "X_test = X_test / 255.0\n",
    "Y_test = np.concatenate((np.full(len(legal_test), 0), np.full(len(illegal_test), 1)))\n",
    "\n",
    "# X_train, X_val, Y_train, Y_val = train_test_split(X_train, Y_train, test_size=0.10, random_state=42)# fitting the model"
   ]
  },
  {
   "cell_type": "code",
   "execution_count": 26,
   "metadata": {},
   "outputs": [
    {
     "name": "stdout",
     "output_type": "stream",
     "text": [
      "Epoch 1/10\n",
      "63/63 [==============================] - 2s 12ms/step - loss: 1.8508 - accuracy: 0.5963 - val_loss: 0.6902 - val_accuracy: 0.6346\n",
      "Epoch 2/10\n",
      "63/63 [==============================] - 0s 6ms/step - loss: 0.7236 - accuracy: 0.3733 - val_loss: 0.6948 - val_accuracy: 0.3855\n",
      "Epoch 3/10\n",
      "63/63 [==============================] - 0s 6ms/step - loss: 0.6467 - accuracy: 0.7872 - val_loss: 0.3803 - val_accuracy: 1.0000\n",
      "Epoch 4/10\n",
      "63/63 [==============================] - 0s 6ms/step - loss: 0.6500 - accuracy: 0.5359 - val_loss: 0.2330 - val_accuracy: 0.9864\n",
      "Epoch 5/10\n",
      "63/63 [==============================] - 0s 6ms/step - loss: 0.4680 - accuracy: 0.8843 - val_loss: 0.0213 - val_accuracy: 0.9957\n",
      "Epoch 6/10\n",
      "63/63 [==============================] - 0s 6ms/step - loss: 0.3890 - accuracy: 0.8366 - val_loss: 0.0420 - val_accuracy: 0.9842\n",
      "Epoch 7/10\n",
      "63/63 [==============================] - 0s 6ms/step - loss: 0.2451 - accuracy: 0.9378 - val_loss: 0.0637 - val_accuracy: 0.9770\n",
      "Epoch 8/10\n",
      "63/63 [==============================] - 0s 6ms/step - loss: 0.1494 - accuracy: 0.9676 - val_loss: 0.0622 - val_accuracy: 0.9835\n",
      "Epoch 9/10\n",
      "63/63 [==============================] - 0s 6ms/step - loss: 0.1215 - accuracy: 0.9729 - val_loss: 0.0644 - val_accuracy: 0.9835\n",
      "Epoch 10/10\n",
      "63/63 [==============================] - 0s 6ms/step - loss: 0.1067 - accuracy: 0.9767 - val_loss: 0.0632 - val_accuracy: 0.9835\n",
      "1.2891041040420532 68.07817816734314\n"
     ]
    }
   ],
   "source": [
    "# Convolutional\n",
    "keras.backend.clear_session()\n",
    "modelr = keras.Sequential()\n",
    "\n",
    "modelr.add(layers.Reshape((1,260), input_shape=(13,20)))\n",
    "# modelr.add(layers.Flatten())\n",
    "modelr.add(layers.LSTM(160))\n",
    "modelr.add(layers.Dense(100, activation=\"relu\"))\n",
    "modelr.add(layers.Dense(1,  activation=\"sigmoid\"))\n",
    "\n",
    "modelr.compile(loss=\"binary_crossentropy\", optimizer=\"adam\", metrics=[\"accuracy\"])\n",
    "modelr.fit(X_train, Y_train, shuffle=False, epochs=10, batch_size=200, validation_split=0.1)\n",
    "\n",
    "loss, accuracy = modelr.evaluate(X_test, Y_test, verbose=0)\n",
    "    \n",
    "print(loss, accuracy*100)"
   ]
  }
 ],
 "metadata": {
  "interpreter": {
   "hash": "228c518008440bb9804c44fb8714a0a32d47965f19bc294a1b65b35c54767715"
  },
  "kernelspec": {
   "display_name": "Python 3.8.5 64-bit ('base': conda)",
   "name": "python3"
  },
  "language_info": {
   "codemirror_mode": {
    "name": "ipython",
    "version": 3
   },
   "file_extension": ".py",
   "mimetype": "text/x-python",
   "name": "python",
   "nbconvert_exporter": "python",
   "pygments_lexer": "ipython3",
   "version": "3.8.5"
  },
  "metadata": {
   "interpreter": {
    "hash": "4cb371dfbd64b115996b53cd3120a45dcd422e0f4baaeed776959a87a3804623"
   }
  },
  "orig_nbformat": 2
 },
 "nbformat": 4,
 "nbformat_minor": 2
}